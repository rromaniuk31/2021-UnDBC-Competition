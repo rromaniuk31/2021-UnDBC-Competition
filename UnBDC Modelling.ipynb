{
 "cells": [
  {
   "cell_type": "markdown",
   "metadata": {},
   "source": [
    "## Import Things"
   ]
  },
  {
   "cell_type": "code",
   "execution_count": 1,
   "metadata": {},
   "outputs": [],
   "source": [
    "import numpy as np\n",
    "import matplotlib.pyplot as plt\n",
    "import pandas as pd"
   ]
  },
  {
   "cell_type": "markdown",
   "metadata": {},
   "source": [
    "## Import Data"
   ]
  },
  {
   "cell_type": "code",
   "execution_count": 2,
   "metadata": {},
   "outputs": [
    {
     "name": "stderr",
     "output_type": "stream",
     "text": [
      "<ipython-input-2-df0db15df909>:6: SettingWithCopyWarning: \n",
      "A value is trying to be set on a copy of a slice from a DataFrame\n",
      "\n",
      "See the caveats in the documentation: https://pandas.pydata.org/pandas-docs/stable/user_guide/indexing.html#returning-a-view-versus-a-copy\n",
      "  train_news_df['Binary'][i] = 1\n",
      "<ipython-input-2-df0db15df909>:8: SettingWithCopyWarning: \n",
      "A value is trying to be set on a copy of a slice from a DataFrame\n",
      "\n",
      "See the caveats in the documentation: https://pandas.pydata.org/pandas-docs/stable/user_guide/indexing.html#returning-a-view-versus-a-copy\n",
      "  train_news_df['Binary'][i] = 0\n"
     ]
    }
   ],
   "source": [
    "#Training\n",
    "train_news_df = pd.read_csv('D:\\\\Competitions\\\\UnBDC 2021\\\\Data\\\\covid_fake_news-main\\\\data\\\\Constraint_Train.csv')\n",
    "train_news_df['Binary'] = ''\n",
    "for i in range(0, len(train_news_df)):\n",
    "    if train_news_df['label'][i] == 'real':\n",
    "        train_news_df['Binary'][i] = 1\n",
    "    else:\n",
    "        train_news_df['Binary'][i] = 0"
   ]
  },
  {
   "cell_type": "code",
   "execution_count": 3,
   "metadata": {},
   "outputs": [
    {
     "name": "stderr",
     "output_type": "stream",
     "text": [
      "<ipython-input-3-31937fca94c3>:6: SettingWithCopyWarning: \n",
      "A value is trying to be set on a copy of a slice from a DataFrame\n",
      "\n",
      "See the caveats in the documentation: https://pandas.pydata.org/pandas-docs/stable/user_guide/indexing.html#returning-a-view-versus-a-copy\n",
      "  test_news_df['Binary'][i] = 1\n",
      "<ipython-input-3-31937fca94c3>:8: SettingWithCopyWarning: \n",
      "A value is trying to be set on a copy of a slice from a DataFrame\n",
      "\n",
      "See the caveats in the documentation: https://pandas.pydata.org/pandas-docs/stable/user_guide/indexing.html#returning-a-view-versus-a-copy\n",
      "  test_news_df['Binary'][i] = 0\n"
     ]
    }
   ],
   "source": [
    "#Testing\n",
    "test_news_df = pd.read_csv('D:\\\\Competitions\\\\UnBDC 2021\\\\Data\\\\covid_fake_news-main\\\\data\\\\english_test_with_labels.csv')\n",
    "test_news_df['Binary'] = ''\n",
    "for i in range(0, len(test_news_df)):\n",
    "    if test_news_df['label'][i] == 'real':\n",
    "        test_news_df['Binary'][i] = 1\n",
    "    else:\n",
    "        test_news_df['Binary'][i] = 0"
   ]
  },
  {
   "cell_type": "markdown",
   "metadata": {},
   "source": [
    "## Clean Text"
   ]
  },
  {
   "cell_type": "code",
   "execution_count": 4,
   "metadata": {},
   "outputs": [
    {
     "name": "stderr",
     "output_type": "stream",
     "text": [
      "[nltk_data] Downloading package stopwords to\n",
      "[nltk_data]     C:\\Users\\acer\\AppData\\Roaming\\nltk_data...\n",
      "[nltk_data]   Package stopwords is already up-to-date!\n"
     ]
    }
   ],
   "source": [
    "#Training\n",
    "import re\n",
    "import nltk\n",
    "nltk.download('stopwords')\n",
    "from nltk.corpus import stopwords\n",
    "from nltk.stem.porter import PorterStemmer\n",
    "corpus = []\n",
    "for i in range(0, len(train_news_df)):\n",
    "    headline = re.sub('[^a-zA-Z]', ' ', train_news_df['tweet'][i])\n",
    "    headline = headline.lower()\n",
    "    headline = headline.split()\n",
    "    ps = PorterStemmer()\n",
    "    all_stopwords = stopwords.words('english')\n",
    "    all_stopwords.remove('not')\n",
    "    headline = [ps.stem(word) for word in headline if not word in set(all_stopwords)]\n",
    "    headline = ' '.join(headline)\n",
    "    corpus.append(headline)"
   ]
  },
  {
   "cell_type": "code",
   "execution_count": 5,
   "metadata": {},
   "outputs": [],
   "source": [
    "#Testing\n",
    "test_corpus = []\n",
    "for i in range(0, len(test_news_df)):\n",
    "    test_headline = re.sub('[^a-zA-Z]', ' ', test_news_df['tweet'][i])\n",
    "    test_headline = test_headline.lower()\n",
    "    test_headline = test_headline.split()\n",
    "    ps = PorterStemmer()\n",
    "    all_stopwords = stopwords.words('english')\n",
    "    all_stopwords.remove('not')\n",
    "    test_headline = [ps.stem(word) for word in test_headline if not word in set(all_stopwords)]\n",
    "    test_headline = ' '.join(test_headline)\n",
    "    test_corpus.append(test_headline)"
   ]
  },
  {
   "cell_type": "markdown",
   "metadata": {},
   "source": [
    "## Create Bag of Words Model"
   ]
  },
  {
   "cell_type": "code",
   "execution_count": 6,
   "metadata": {},
   "outputs": [],
   "source": [
    "#Training\n",
    "from sklearn.feature_extraction.text import CountVectorizer\n",
    "cv = CountVectorizer(max_features = 5000)\n",
    "X_train = cv.fit_transform(corpus).toarray()\n",
    "y_train = train_news_df.iloc[:, -1].values\n",
    "y_train = y_train.astype('int')"
   ]
  },
  {
   "cell_type": "code",
   "execution_count": 7,
   "metadata": {},
   "outputs": [],
   "source": [
    "#Testing\n",
    "X_test = cv.fit_transform(test_corpus).toarray()\n",
    "y_test = test_news_df.iloc[:, -1].values\n",
    "y_test = y_test.astype('int')"
   ]
  },
  {
   "cell_type": "markdown",
   "metadata": {},
   "source": [
    "## Gaussian Naive Bayes Model"
   ]
  },
  {
   "cell_type": "code",
   "execution_count": 8,
   "metadata": {},
   "outputs": [
    {
     "data": {
      "text/plain": [
       "GaussianNB()"
      ]
     },
     "execution_count": 8,
     "metadata": {},
     "output_type": "execute_result"
    }
   ],
   "source": [
    "from sklearn.naive_bayes import GaussianNB\n",
    "classifier = GaussianNB()\n",
    "classifier.fit(X_train, y_train)"
   ]
  },
  {
   "cell_type": "code",
   "execution_count": 9,
   "metadata": {},
   "outputs": [
    {
     "name": "stdout",
     "output_type": "stream",
     "text": [
      "[[369 651]\n",
      " [561 559]]\n",
      "0.4336448598130841\n"
     ]
    }
   ],
   "source": [
    "from sklearn.metrics import confusion_matrix, accuracy_score, f1_score\n",
    "y_pred = classifier.predict(X_test)\n",
    "cm = confusion_matrix(y_test, y_pred)\n",
    "print(cm)\n",
    "print(accuracy_score(y_test, y_pred))"
   ]
  },
  {
   "cell_type": "code",
   "execution_count": 10,
   "metadata": {},
   "outputs": [
    {
     "name": "stdout",
     "output_type": "stream",
     "text": [
      "f1= 0.47982832618025756\n"
     ]
    }
   ],
   "source": [
    "print('f1=',f1_score(y_test, y_pred))"
   ]
  },
  {
   "cell_type": "markdown",
   "metadata": {},
   "source": [
    "## Bernoulli Naive Bayes Model"
   ]
  },
  {
   "cell_type": "code",
   "execution_count": 11,
   "metadata": {},
   "outputs": [
    {
     "data": {
      "text/plain": [
       "BernoulliNB()"
      ]
     },
     "execution_count": 11,
     "metadata": {},
     "output_type": "execute_result"
    }
   ],
   "source": [
    "from sklearn.naive_bayes import BernoulliNB\n",
    "classifier = BernoulliNB()\n",
    "classifier.fit(X_train, y_train)"
   ]
  },
  {
   "cell_type": "code",
   "execution_count": 12,
   "metadata": {},
   "outputs": [
    {
     "name": "stdout",
     "output_type": "stream",
     "text": [
      "[[916 104]\n",
      " [934 186]]\n",
      "0.5149532710280373\n"
     ]
    }
   ],
   "source": [
    "y_pred = classifier.predict(X_test)\n",
    "cm = confusion_matrix(y_test, y_pred)\n",
    "print(cm)\n",
    "print(accuracy_score(y_test, y_pred))"
   ]
  },
  {
   "cell_type": "code",
   "execution_count": 13,
   "metadata": {},
   "outputs": [
    {
     "name": "stdout",
     "output_type": "stream",
     "text": [
      "f1= 0.26382978723404255\n"
     ]
    }
   ],
   "source": [
    "print('f1=',f1_score(y_test, y_pred))"
   ]
  },
  {
   "cell_type": "code",
   "execution_count": 14,
   "metadata": {},
   "outputs": [
    {
     "data": {
      "text/plain": [
       "BernoulliNB(alpha=0.9)"
      ]
     },
     "execution_count": 14,
     "metadata": {},
     "output_type": "execute_result"
    }
   ],
   "source": [
    "#Best\n",
    "classifier = BernoulliNB(alpha = 0.9)\n",
    "classifier.fit(X_train, y_train)"
   ]
  },
  {
   "cell_type": "code",
   "execution_count": 15,
   "metadata": {},
   "outputs": [
    {
     "name": "stdout",
     "output_type": "stream",
     "text": [
      "[[907 113]\n",
      " [923 197]]\n",
      "0.5158878504672897\n"
     ]
    }
   ],
   "source": [
    "#Best\n",
    "y_pred = classifier.predict(X_test)\n",
    "cm = confusion_matrix(y_test, y_pred)\n",
    "print(cm)\n",
    "print(accuracy_score(y_test, y_pred))"
   ]
  },
  {
   "cell_type": "code",
   "execution_count": 16,
   "metadata": {},
   "outputs": [
    {
     "name": "stdout",
     "output_type": "stream",
     "text": [
      "f1= 0.2755244755244755\n"
     ]
    }
   ],
   "source": [
    "#Best\n",
    "print('f1=',f1_score(y_test, y_pred))"
   ]
  },
  {
   "cell_type": "markdown",
   "metadata": {},
   "source": [
    "## Complement Naive Bayes Model"
   ]
  },
  {
   "cell_type": "code",
   "execution_count": 17,
   "metadata": {},
   "outputs": [
    {
     "data": {
      "text/plain": [
       "ComplementNB()"
      ]
     },
     "execution_count": 17,
     "metadata": {},
     "output_type": "execute_result"
    }
   ],
   "source": [
    "from sklearn.naive_bayes import ComplementNB\n",
    "classifier = ComplementNB()\n",
    "classifier.fit(X_train, y_train)"
   ]
  },
  {
   "cell_type": "code",
   "execution_count": 18,
   "metadata": {},
   "outputs": [
    {
     "name": "stdout",
     "output_type": "stream",
     "text": [
      "[[767 253]\n",
      " [933 187]]\n",
      "0.4457943925233645\n"
     ]
    }
   ],
   "source": [
    "y_pred = classifier.predict(X_test)\n",
    "cm = confusion_matrix(y_test, y_pred)\n",
    "print(cm)\n",
    "print(accuracy_score(y_test, y_pred))"
   ]
  },
  {
   "cell_type": "code",
   "execution_count": 19,
   "metadata": {},
   "outputs": [
    {
     "name": "stdout",
     "output_type": "stream",
     "text": [
      "f1= 0.23974358974358972\n"
     ]
    }
   ],
   "source": [
    "print('f1=',f1_score(y_test, y_pred))"
   ]
  },
  {
   "cell_type": "code",
   "execution_count": 20,
   "metadata": {},
   "outputs": [
    {
     "data": {
      "text/plain": [
       "ComplementNB(alpha=1.4)"
      ]
     },
     "execution_count": 20,
     "metadata": {},
     "output_type": "execute_result"
    }
   ],
   "source": [
    "#Best\n",
    "classifier = ComplementNB(alpha = 1.4)\n",
    "classifier.fit(X_train, y_train)"
   ]
  },
  {
   "cell_type": "code",
   "execution_count": 21,
   "metadata": {},
   "outputs": [
    {
     "name": "stdout",
     "output_type": "stream",
     "text": [
      "[[792 228]\n",
      " [950 170]]\n",
      "0.44953271028037384\n"
     ]
    }
   ],
   "source": [
    "#Best\n",
    "y_pred = classifier.predict(X_test)\n",
    "cm = confusion_matrix(y_test, y_pred)\n",
    "print(cm)\n",
    "print(accuracy_score(y_test, y_pred))"
   ]
  },
  {
   "cell_type": "code",
   "execution_count": 22,
   "metadata": {},
   "outputs": [
    {
     "name": "stdout",
     "output_type": "stream",
     "text": [
      "f1= 0.22397891963109356\n"
     ]
    }
   ],
   "source": [
    "#Best\n",
    "print('f1=',f1_score(y_test, y_pred))"
   ]
  },
  {
   "cell_type": "markdown",
   "metadata": {},
   "source": [
    "## Logistic Regression Model"
   ]
  },
  {
   "cell_type": "code",
   "execution_count": 23,
   "metadata": {},
   "outputs": [
    {
     "data": {
      "text/plain": [
       "LogisticRegression(random_state=0)"
      ]
     },
     "execution_count": 23,
     "metadata": {},
     "output_type": "execute_result"
    }
   ],
   "source": [
    "from sklearn.linear_model import LogisticRegression\n",
    "classifier = LogisticRegression(random_state = 0)\n",
    "classifier.fit(X_train, y_train)"
   ]
  },
  {
   "cell_type": "code",
   "execution_count": 24,
   "metadata": {},
   "outputs": [
    {
     "name": "stdout",
     "output_type": "stream",
     "text": [
      "[[ 996   24]\n",
      " [1027   93]]\n",
      "0.5088785046728972\n"
     ]
    }
   ],
   "source": [
    "y_pred = classifier.predict(X_test)\n",
    "cm = confusion_matrix(y_test, y_pred)\n",
    "print(cm)\n",
    "print(accuracy_score(y_test, y_pred))"
   ]
  },
  {
   "cell_type": "code",
   "execution_count": 25,
   "metadata": {},
   "outputs": [
    {
     "name": "stdout",
     "output_type": "stream",
     "text": [
      "f1= 0.15036378334680675\n"
     ]
    }
   ],
   "source": [
    "print('f1=',f1_score(y_test, y_pred))"
   ]
  },
  {
   "cell_type": "code",
   "execution_count": 26,
   "metadata": {},
   "outputs": [
    {
     "data": {
      "text/plain": [
       "LogisticRegression(C=6, max_iter=200, random_state=0)"
      ]
     },
     "execution_count": 26,
     "metadata": {},
     "output_type": "execute_result"
    }
   ],
   "source": [
    "#Best\n",
    "classifier = LogisticRegression(random_state = 0, C = 6, max_iter = 200)\n",
    "classifier.fit(X_train, y_train)"
   ]
  },
  {
   "cell_type": "code",
   "execution_count": 27,
   "metadata": {},
   "outputs": [
    {
     "name": "stdout",
     "output_type": "stream",
     "text": [
      "[[961  59]\n",
      " [952 168]]\n",
      "0.5275700934579439\n"
     ]
    }
   ],
   "source": [
    "#Best\n",
    "y_pred = classifier.predict(X_test)\n",
    "cm = confusion_matrix(y_test, y_pred)\n",
    "print(cm)\n",
    "print(accuracy_score(y_test, y_pred))"
   ]
  },
  {
   "cell_type": "code",
   "execution_count": 28,
   "metadata": {},
   "outputs": [
    {
     "name": "stdout",
     "output_type": "stream",
     "text": [
      "f1= 0.24944320712694876\n"
     ]
    }
   ],
   "source": [
    "#Best\n",
    "print('f1=',f1_score(y_test, y_pred))"
   ]
  },
  {
   "cell_type": "markdown",
   "metadata": {},
   "source": [
    "## K-Nearest Neighbours Model"
   ]
  },
  {
   "cell_type": "code",
   "execution_count": 29,
   "metadata": {},
   "outputs": [
    {
     "data": {
      "text/plain": [
       "KNeighborsClassifier()"
      ]
     },
     "execution_count": 29,
     "metadata": {},
     "output_type": "execute_result"
    }
   ],
   "source": [
    "from sklearn.neighbors import KNeighborsClassifier\n",
    "classifier = KNeighborsClassifier(n_neighbors = 5, metric = 'minkowski', p = 2)\n",
    "classifier.fit(X_train, y_train)"
   ]
  },
  {
   "cell_type": "code",
   "execution_count": 30,
   "metadata": {},
   "outputs": [
    {
     "name": "stdout",
     "output_type": "stream",
     "text": [
      "[[1020    0]\n",
      " [1120    0]]\n",
      "0.4766355140186916\n"
     ]
    }
   ],
   "source": [
    "y_pred = classifier.predict(X_test)\n",
    "cm = confusion_matrix(y_test, y_pred)\n",
    "print(cm)\n",
    "print(accuracy_score(y_test, y_pred))"
   ]
  },
  {
   "cell_type": "code",
   "execution_count": 31,
   "metadata": {},
   "outputs": [
    {
     "name": "stdout",
     "output_type": "stream",
     "text": [
      "f1= 0.0\n"
     ]
    }
   ],
   "source": [
    "print('f1=',f1_score(y_test, y_pred))"
   ]
  },
  {
   "cell_type": "markdown",
   "metadata": {},
   "source": [
    "## Linear Support Vector Machine Model"
   ]
  },
  {
   "cell_type": "code",
   "execution_count": 32,
   "metadata": {},
   "outputs": [
    {
     "data": {
      "text/plain": [
       "LinearSVC(random_state=0)"
      ]
     },
     "execution_count": 32,
     "metadata": {},
     "output_type": "execute_result"
    }
   ],
   "source": [
    "from sklearn.svm import LinearSVC\n",
    "classifier = LinearSVC(random_state = 0)\n",
    "classifier.fit(X_train, y_train)"
   ]
  },
  {
   "cell_type": "code",
   "execution_count": 33,
   "metadata": {},
   "outputs": [
    {
     "name": "stdout",
     "output_type": "stream",
     "text": [
      "[[889 131]\n",
      " [893 227]]\n",
      "0.5214953271028038\n"
     ]
    }
   ],
   "source": [
    "y_pred = classifier.predict(X_test)\n",
    "cm = confusion_matrix(y_test, y_pred)\n",
    "print(cm)\n",
    "print(accuracy_score(y_test, y_pred))"
   ]
  },
  {
   "cell_type": "code",
   "execution_count": 34,
   "metadata": {},
   "outputs": [
    {
     "name": "stdout",
     "output_type": "stream",
     "text": [
      "f1= 0.3071718538565629\n"
     ]
    }
   ],
   "source": [
    "print('f1=',f1_score(y_test, y_pred))"
   ]
  },
  {
   "cell_type": "code",
   "execution_count": 35,
   "metadata": {},
   "outputs": [
    {
     "data": {
      "text/plain": [
       "LinearSVC(C=3, max_iter=2000, random_state=0)"
      ]
     },
     "execution_count": 35,
     "metadata": {},
     "output_type": "execute_result"
    }
   ],
   "source": [
    "#Best\n",
    "classifier = LinearSVC(random_state = 0, C = 3, max_iter = 2000)\n",
    "classifier.fit(X_train, y_train)"
   ]
  },
  {
   "cell_type": "code",
   "execution_count": 36,
   "metadata": {},
   "outputs": [
    {
     "name": "stdout",
     "output_type": "stream",
     "text": [
      "[[893 127]\n",
      " [889 231]]\n",
      "0.525233644859813\n"
     ]
    }
   ],
   "source": [
    "#Best\n",
    "y_pred = classifier.predict(X_test)\n",
    "cm = confusion_matrix(y_test, y_pred)\n",
    "print(cm)\n",
    "print(accuracy_score(y_test, y_pred))"
   ]
  },
  {
   "cell_type": "code",
   "execution_count": 37,
   "metadata": {},
   "outputs": [
    {
     "name": "stdout",
     "output_type": "stream",
     "text": [
      "f1= 0.3125845737483085\n"
     ]
    }
   ],
   "source": [
    "#Best\n",
    "print('f1=',f1_score(y_test, y_pred))"
   ]
  },
  {
   "cell_type": "markdown",
   "metadata": {},
   "source": [
    "## Kernel SVM Model"
   ]
  },
  {
   "cell_type": "code",
   "execution_count": 38,
   "metadata": {},
   "outputs": [
    {
     "data": {
      "text/plain": [
       "SVC(random_state=0)"
      ]
     },
     "execution_count": 38,
     "metadata": {},
     "output_type": "execute_result"
    }
   ],
   "source": [
    "from sklearn.svm import SVC\n",
    "classifier = SVC(kernel = 'rbf', random_state = 0)\n",
    "classifier.fit(X_train, y_train)"
   ]
  },
  {
   "cell_type": "code",
   "execution_count": 39,
   "metadata": {},
   "outputs": [
    {
     "name": "stdout",
     "output_type": "stream",
     "text": [
      "[[1001   19]\n",
      " [1001  119]]\n",
      "0.5233644859813084\n"
     ]
    }
   ],
   "source": [
    "y_pred = classifier.predict(X_test)\n",
    "cm = confusion_matrix(y_test, y_pred)\n",
    "print(cm)\n",
    "print(accuracy_score(y_test, y_pred))"
   ]
  },
  {
   "cell_type": "code",
   "execution_count": 40,
   "metadata": {},
   "outputs": [
    {
     "name": "stdout",
     "output_type": "stream",
     "text": [
      "f1= 0.1891891891891892\n"
     ]
    }
   ],
   "source": [
    "print('f1=',f1_score(y_test, y_pred))"
   ]
  },
  {
   "cell_type": "code",
   "execution_count": 41,
   "metadata": {},
   "outputs": [
    {
     "data": {
      "text/plain": [
       "SVC(C=0.005, random_state=0)"
      ]
     },
     "execution_count": 41,
     "metadata": {},
     "output_type": "execute_result"
    }
   ],
   "source": [
    "classifier = SVC(kernel = 'rbf', random_state = 0, C = 0.005)\n",
    "classifier.fit(X_train, y_train)"
   ]
  },
  {
   "cell_type": "code",
   "execution_count": 42,
   "metadata": {},
   "outputs": [
    {
     "name": "stdout",
     "output_type": "stream",
     "text": [
      "[[708 312]\n",
      " [256 864]]\n",
      "0.7345794392523365\n"
     ]
    }
   ],
   "source": [
    "y_pred = classifier.predict(X_test)\n",
    "cm = confusion_matrix(y_test, y_pred)\n",
    "print(cm)\n",
    "print(accuracy_score(y_test, y_pred))"
   ]
  },
  {
   "cell_type": "code",
   "execution_count": 43,
   "metadata": {},
   "outputs": [
    {
     "name": "stdout",
     "output_type": "stream",
     "text": [
      "f1= 0.7526132404181185\n"
     ]
    }
   ],
   "source": [
    "print('f1=',f1_score(y_test, y_pred))"
   ]
  },
  {
   "cell_type": "code",
   "execution_count": 44,
   "metadata": {},
   "outputs": [
    {
     "name": "stdout",
     "output_type": "stream",
     "text": [
      "0\n",
      "1\n",
      "2\n",
      "3\n",
      "4\n",
      "5\n",
      "6\n",
      "7\n",
      "8\n",
      "9\n",
      "10\n",
      "11\n",
      "12\n",
      "13\n",
      "14\n",
      "15\n",
      "16\n",
      "17\n",
      "18\n",
      "19\n",
      "20\n",
      "21\n",
      "22\n",
      "23\n",
      "24\n",
      "25\n",
      "26\n",
      "27\n",
      "28\n",
      "29\n",
      "30\n",
      "31\n",
      "32\n",
      "33\n",
      "34\n",
      "35\n",
      "36\n",
      "37\n",
      "38\n",
      "39\n",
      "40\n",
      "41\n",
      "42\n",
      "43\n",
      "44\n",
      "45\n",
      "46\n",
      "47\n",
      "48\n",
      "49\n",
      "50\n",
      "51\n",
      "52\n",
      "53\n",
      "54\n",
      "55\n",
      "56\n",
      "57\n",
      "58\n",
      "59\n",
      "60\n",
      "61\n",
      "62\n",
      "63\n",
      "64\n",
      "65\n",
      "66\n",
      "67\n",
      "68\n",
      "69\n",
      "70\n",
      "71\n",
      "72\n",
      "73\n",
      "74\n",
      "75\n",
      "76\n",
      "77\n",
      "78\n",
      "79\n",
      "80\n",
      "81\n",
      "82\n",
      "83\n",
      "84\n",
      "85\n",
      "86\n",
      "87\n",
      "88\n",
      "89\n",
      "90\n",
      "91\n",
      "92\n",
      "93\n",
      "94\n",
      "95\n",
      "96\n",
      "97\n",
      "98\n",
      "99\n"
     ]
    },
    {
     "data": {
      "text/html": [
       "<div>\n",
       "<style scoped>\n",
       "    .dataframe tbody tr th:only-of-type {\n",
       "        vertical-align: middle;\n",
       "    }\n",
       "\n",
       "    .dataframe tbody tr th {\n",
       "        vertical-align: top;\n",
       "    }\n",
       "\n",
       "    .dataframe thead th {\n",
       "        text-align: right;\n",
       "    }\n",
       "</style>\n",
       "<table border=\"1\" class=\"dataframe\">\n",
       "  <thead>\n",
       "    <tr style=\"text-align: right;\">\n",
       "      <th></th>\n",
       "      <th>C</th>\n",
       "      <th>Accuracy</th>\n",
       "    </tr>\n",
       "  </thead>\n",
       "  <tbody>\n",
       "    <tr>\n",
       "      <th>0</th>\n",
       "      <td>0.01</td>\n",
       "      <td>0.723364</td>\n",
       "    </tr>\n",
       "    <tr>\n",
       "      <th>1</th>\n",
       "      <td>0.02</td>\n",
       "      <td>0.717757</td>\n",
       "    </tr>\n",
       "    <tr>\n",
       "      <th>2</th>\n",
       "      <td>0.03</td>\n",
       "      <td>0.712617</td>\n",
       "    </tr>\n",
       "    <tr>\n",
       "      <th>3</th>\n",
       "      <td>0.04</td>\n",
       "      <td>0.712617</td>\n",
       "    </tr>\n",
       "    <tr>\n",
       "      <th>4</th>\n",
       "      <td>0.05</td>\n",
       "      <td>0.71028</td>\n",
       "    </tr>\n",
       "    <tr>\n",
       "      <th>...</th>\n",
       "      <td>...</td>\n",
       "      <td>...</td>\n",
       "    </tr>\n",
       "    <tr>\n",
       "      <th>95</th>\n",
       "      <td>0.96</td>\n",
       "      <td>0.528505</td>\n",
       "    </tr>\n",
       "    <tr>\n",
       "      <th>96</th>\n",
       "      <td>0.97</td>\n",
       "      <td>0.528037</td>\n",
       "    </tr>\n",
       "    <tr>\n",
       "      <th>97</th>\n",
       "      <td>0.98</td>\n",
       "      <td>0.526168</td>\n",
       "    </tr>\n",
       "    <tr>\n",
       "      <th>98</th>\n",
       "      <td>0.99</td>\n",
       "      <td>0.524299</td>\n",
       "    </tr>\n",
       "    <tr>\n",
       "      <th>99</th>\n",
       "      <td>1</td>\n",
       "      <td>0.523364</td>\n",
       "    </tr>\n",
       "  </tbody>\n",
       "</table>\n",
       "<p>100 rows × 2 columns</p>\n",
       "</div>"
      ],
      "text/plain": [
       "       C  Accuracy\n",
       "0   0.01  0.723364\n",
       "1   0.02  0.717757\n",
       "2   0.03  0.712617\n",
       "3   0.04  0.712617\n",
       "4   0.05   0.71028\n",
       "..   ...       ...\n",
       "95  0.96  0.528505\n",
       "96  0.97  0.528037\n",
       "97  0.98  0.526168\n",
       "98  0.99  0.524299\n",
       "99     1  0.523364\n",
       "\n",
       "[100 rows x 2 columns]"
      ]
     },
     "execution_count": 44,
     "metadata": {},
     "output_type": "execute_result"
    }
   ],
   "source": [
    "accuracy_df = pd.DataFrame(index = range(0, 100), columns = ['C', 'Accuracy'])\n",
    "rang = np.arange(0.01, 1.01, 0.01)\n",
    "\n",
    "for i in range(0, 100):\n",
    "    rang[i] = format(rang[i], '.3f')\n",
    "    \n",
    "for i in range(0, 100):\n",
    "    accuracy_df['C'][i] = rang[i]\n",
    "    classifier = SVC(kernel = 'rbf', random_state = 0, C = rang[i])\n",
    "    classifier.fit(X_train, y_train)\n",
    "    \n",
    "    y_pred = classifier.predict(X_test)\n",
    "    accuracy_df['Accuracy'][i] = accuracy_score(y_test, y_pred)\n",
    "    print(i)\n",
    "\n",
    "accuracy_df"
   ]
  },
  {
   "cell_type": "code",
   "execution_count": 45,
   "metadata": {},
   "outputs": [
    {
     "name": "stdout",
     "output_type": "stream",
     "text": [
      "0\n",
      "1\n",
      "2\n",
      "3\n",
      "4\n",
      "5\n",
      "6\n",
      "7\n",
      "8\n"
     ]
    },
    {
     "data": {
      "text/html": [
       "<div>\n",
       "<style scoped>\n",
       "    .dataframe tbody tr th:only-of-type {\n",
       "        vertical-align: middle;\n",
       "    }\n",
       "\n",
       "    .dataframe tbody tr th {\n",
       "        vertical-align: top;\n",
       "    }\n",
       "\n",
       "    .dataframe thead th {\n",
       "        text-align: right;\n",
       "    }\n",
       "</style>\n",
       "<table border=\"1\" class=\"dataframe\">\n",
       "  <thead>\n",
       "    <tr style=\"text-align: right;\">\n",
       "      <th></th>\n",
       "      <th>C</th>\n",
       "      <th>Accuracy</th>\n",
       "    </tr>\n",
       "  </thead>\n",
       "  <tbody>\n",
       "    <tr>\n",
       "      <th>0</th>\n",
       "      <td>0.001</td>\n",
       "      <td>0.523364</td>\n",
       "    </tr>\n",
       "    <tr>\n",
       "      <th>1</th>\n",
       "      <td>0.002</td>\n",
       "      <td>0.523364</td>\n",
       "    </tr>\n",
       "    <tr>\n",
       "      <th>2</th>\n",
       "      <td>0.003</td>\n",
       "      <td>0.687383</td>\n",
       "    </tr>\n",
       "    <tr>\n",
       "      <th>3</th>\n",
       "      <td>0.004</td>\n",
       "      <td>0.733178</td>\n",
       "    </tr>\n",
       "    <tr>\n",
       "      <th>4</th>\n",
       "      <td>0.005</td>\n",
       "      <td>0.734579</td>\n",
       "    </tr>\n",
       "    <tr>\n",
       "      <th>5</th>\n",
       "      <td>0.006</td>\n",
       "      <td>0.730374</td>\n",
       "    </tr>\n",
       "    <tr>\n",
       "      <th>6</th>\n",
       "      <td>0.007</td>\n",
       "      <td>0.729439</td>\n",
       "    </tr>\n",
       "    <tr>\n",
       "      <th>7</th>\n",
       "      <td>0.008</td>\n",
       "      <td>0.724299</td>\n",
       "    </tr>\n",
       "    <tr>\n",
       "      <th>8</th>\n",
       "      <td>0.009</td>\n",
       "      <td>0.725234</td>\n",
       "    </tr>\n",
       "  </tbody>\n",
       "</table>\n",
       "</div>"
      ],
      "text/plain": [
       "       C  Accuracy\n",
       "0  0.001  0.523364\n",
       "1  0.002  0.523364\n",
       "2  0.003  0.687383\n",
       "3  0.004  0.733178\n",
       "4  0.005  0.734579\n",
       "5  0.006  0.730374\n",
       "6  0.007  0.729439\n",
       "7  0.008  0.724299\n",
       "8  0.009  0.725234"
      ]
     },
     "execution_count": 45,
     "metadata": {},
     "output_type": "execute_result"
    }
   ],
   "source": [
    "accuracy_df2 = pd.DataFrame(index = range(0, 9), columns = ['C', 'Accuracy'])\n",
    "rang2 = np.arange(0.001, 0.01, 0.001)\n",
    "\n",
    "for i in range(0, 9):\n",
    "    rang2[i] = format(rang2[i], '.3f')\n",
    "    \n",
    "for i in range(0, 9):\n",
    "    accuracy_df2['C'][i] = rang2[i]\n",
    "    classifier = SVC(kernel = 'rbf', random_state = 0, C = rang2[i])\n",
    "    classifier.fit(X_train, y_train)\n",
    "    \n",
    "    y_pred = classifier.predict(X_test)\n",
    "    accuracy_df2['Accuracy'][i] = accuracy_score(y_test, y_pred)\n",
    "    print(i)\n",
    "\n",
    "accuracy_df2"
   ]
  },
  {
   "cell_type": "code",
   "execution_count": 46,
   "metadata": {},
   "outputs": [],
   "source": [
    "accuracy_df.to_csv('D:\\\\Competitions\\\\UnBDC 2021\\\\0to100_accuracy.csv')\n",
    "accuracy_df2.to_csv('D:\\\\Competitions\\\\UnBDC 2021\\\\0to1_accuracy.csv')"
   ]
  },
  {
   "cell_type": "markdown",
   "metadata": {},
   "source": [
    "## XGBoost"
   ]
  },
  {
   "cell_type": "code",
   "execution_count": 19,
   "metadata": {},
   "outputs": [
    {
     "name": "stderr",
     "output_type": "stream",
     "text": [
      "C:\\Users\\acer\\anaconda3\\lib\\site-packages\\xgboost\\sklearn.py:1146: UserWarning: The use of label encoder in XGBClassifier is deprecated and will be removed in a future release. To remove this warning, do the following: 1) Pass option use_label_encoder=False when constructing XGBClassifier object; and 2) Encode your labels (y) as integers starting with 0, i.e. 0, 1, 2, ..., [num_class - 1].\n",
      "  warnings.warn(label_encoder_deprecation_msg, UserWarning)\n"
     ]
    },
    {
     "name": "stdout",
     "output_type": "stream",
     "text": [
      "[15:31:03] WARNING: C:/Users/Administrator/workspace/xgboost-win64_release_1.4.0/src/learner.cc:1095: Starting in XGBoost 1.3.0, the default evaluation metric used with the objective 'binary:logistic' was changed from 'error' to 'logloss'. Explicitly set eval_metric if you'd like to restore the old behavior.\n"
     ]
    },
    {
     "data": {
      "text/plain": [
       "XGBClassifier(base_score=0.5, booster='gbtree', colsample_bylevel=1,\n",
       "              colsample_bynode=1, colsample_bytree=1, gamma=0, gpu_id=-1,\n",
       "              importance_type='gain', interaction_constraints='',\n",
       "              learning_rate=0.300000012, max_delta_step=0, max_depth=6,\n",
       "              min_child_weight=1, missing=nan, monotone_constraints='()',\n",
       "              n_estimators=400, n_jobs=8, num_parallel_tree=1, random_state=0,\n",
       "              reg_alpha=0, reg_lambda=1, scale_pos_weight=1, subsample=1,\n",
       "              tree_method='exact', validate_parameters=1, verbosity=None)"
      ]
     },
     "execution_count": 19,
     "metadata": {},
     "output_type": "execute_result"
    }
   ],
   "source": [
    "from xgboost import XGBClassifier\n",
    "classifier = XGBClassifier(random_state = 0, n_estimators = 400)\n",
    "classifier.fit(X_train, y_train)"
   ]
  },
  {
   "cell_type": "code",
   "execution_count": 20,
   "metadata": {},
   "outputs": [
    {
     "name": "stdout",
     "output_type": "stream",
     "text": [
      "[[1017    3]\n",
      " [1093   27]]\n",
      "0.48785046728971965\n"
     ]
    }
   ],
   "source": [
    "y_pred = classifier.predict(X_test)\n",
    "cm = confusion_matrix(y_test, y_pred)\n",
    "print(cm)\n",
    "print(accuracy_score(y_test, y_pred))"
   ]
  },
  {
   "cell_type": "code",
   "execution_count": 21,
   "metadata": {
    "scrolled": true
   },
   "outputs": [
    {
     "name": "stdout",
     "output_type": "stream",
     "text": [
      "[15:33:12] WARNING: C:/Users/Administrator/workspace/xgboost-win64_release_1.4.0/src/learner.cc:1095: Starting in XGBoost 1.3.0, the default evaluation metric used with the objective 'binary:logistic' was changed from 'error' to 'logloss'. Explicitly set eval_metric if you'd like to restore the old behavior.\n"
     ]
    },
    {
     "data": {
      "text/plain": [
       "XGBClassifier(base_score=0.5, booster='gbtree', colsample_bylevel=1,\n",
       "              colsample_bynode=1, colsample_bytree=1, gamma=1, gpu_id=-1,\n",
       "              importance_type='gain', interaction_constraints='',\n",
       "              learning_rate=0.01, max_delta_step=0, max_depth=3,\n",
       "              min_child_weight=1, missing=nan, monotone_constraints='()',\n",
       "              n_estimators=400, n_jobs=8, num_parallel_tree=1, random_state=0,\n",
       "              reg_alpha=0, reg_lambda=1, scale_pos_weight=1, subsample=0.8,\n",
       "              tree_method='exact', validate_parameters=1, verbosity=None)"
      ]
     },
     "execution_count": 21,
     "metadata": {},
     "output_type": "execute_result"
    }
   ],
   "source": [
    "classifier = XGBClassifier(random_state = 0, learning_rate = 0.01, n_estimators = 400, max_depth = 3, subsample = 0.8, colsample_bytree = 1, gamma = 1)\n",
    "classifier.fit(X_train, y_train)"
   ]
  },
  {
   "cell_type": "code",
   "execution_count": 22,
   "metadata": {},
   "outputs": [
    {
     "name": "stdout",
     "output_type": "stream",
     "text": [
      "[[1019    1]\n",
      " [1054   66]]\n",
      "0.5070093457943925\n"
     ]
    }
   ],
   "source": [
    "y_pred = classifier.predict(X_test)\n",
    "cm = confusion_matrix(y_test, y_pred)\n",
    "print(cm)\n",
    "print(accuracy_score(y_test, y_pred))"
   ]
  },
  {
   "cell_type": "code",
   "execution_count": 23,
   "metadata": {},
   "outputs": [
    {
     "name": "stdout",
     "output_type": "stream",
     "text": [
      "f1= 0.11120471777590564\n"
     ]
    }
   ],
   "source": [
    "print('f1=',f1_score(y_test, y_pred))"
   ]
  },
  {
   "cell_type": "markdown",
   "metadata": {},
   "source": [
    "## K-Means Clustering"
   ]
  },
  {
   "cell_type": "code",
   "execution_count": 9,
   "metadata": {},
   "outputs": [
    {
     "data": {
      "image/png": "[encoded data removed]",
      "text/plain": [
       "<Figure size 432x288 with 1 Axes>"
      ]
     },
     "metadata": {
      "needs_background": "light"
     },
     "output_type": "display_data"
    }
   ],
   "source": [
    "from sklearn.cluster import KMeans\n",
    "wcss = []\n",
    "for i in range(1, 20):\n",
    "    kmeans = KMeans(n_clusters = i, init = 'k-means++', random_state = 42)\n",
    "    kmeans.fit(X_train)\n",
    "    wcss.append(kmeans.inertia_)\n",
    "plt.plot(range(1, 20), wcss)\n",
    "plt.title('The Elbow Method')\n",
    "plt.xlabel('Number of clusters')\n",
    "plt.ylabel('WCSS')\n",
    "plt.show()"
   ]
  },
  {
   "cell_type": "code",
   "execution_count": 30,
   "metadata": {},
   "outputs": [],
   "source": [
    "from sklearn.cluster import KMeans\n",
    "kmeans = KMeans(n_clusters = 2, init = 'k-means++', random_state = 42)\n",
    "y_kmeans = kmeans.fit_predict(X_test)"
   ]
  },
  {
   "cell_type": "code",
   "execution_count": 31,
   "metadata": {},
   "outputs": [
    {
     "name": "stdout",
     "output_type": "stream",
     "text": [
      "[[1020    0]\n",
      " [1119    1]]\n",
      "0.47710280373831776\n"
     ]
    }
   ],
   "source": [
    "from sklearn.metrics import confusion_matrix, accuracy_score, f1_score\n",
    "cm = confusion_matrix(y_test, y_kmeans)\n",
    "print(cm)\n",
    "print(accuracy_score(y_test, y_kmeans))"
   ]
  },
  {
   "cell_type": "code",
   "execution_count": 32,
   "metadata": {},
   "outputs": [
    {
     "name": "stdout",
     "output_type": "stream",
     "text": [
      "f1= 0.0017841213202497768\n"
     ]
    }
   ],
   "source": [
    "print('f1=',f1_score(y_test, y_kmeans))"
   ]
  },
  {
   "cell_type": "markdown",
   "metadata": {},
   "source": [
    "## Hierarchical Clustering"
   ]
  },
  {
   "cell_type": "code",
   "execution_count": 17,
   "metadata": {},
   "outputs": [
    {
     "data": {
      "image/png": "[encoded data removed]",
      "text/plain": [
       "<Figure size 432x288 with 1 Axes>"
      ]
     },
     "metadata": {
      "needs_background": "light"
     },
     "output_type": "display_data"
    }
   ],
   "source": [
    "import scipy.cluster.hierarchy as sch\n",
    "dendrogram = sch.dendrogram(sch.linkage(X_train, method = 'ward'))\n",
    "plt.title('Dendrogram')\n",
    "plt.xlabel('Headline')\n",
    "plt.ylabel('Euclidean distances')\n",
    "plt.show()"
   ]
  },
  {
   "cell_type": "code",
   "execution_count": 27,
   "metadata": {},
   "outputs": [
    {
     "data": {
      "text/plain": [
       "AgglomerativeClustering()"
      ]
     },
     "execution_count": 27,
     "metadata": {},
     "output_type": "execute_result"
    }
   ],
   "source": [
    "from sklearn.cluster import AgglomerativeClustering\n",
    "hc = AgglomerativeClustering(n_clusters = 2, affinity = 'euclidean', linkage = 'ward')\n",
    "hc.fit(X_train, y_train)"
   ]
  },
  {
   "cell_type": "code",
   "execution_count": 28,
   "metadata": {},
   "outputs": [
    {
     "name": "stdout",
     "output_type": "stream",
     "text": [
      "[[1020    0]\n",
      " [1119    1]]\n",
      "0.47710280373831776\n"
     ]
    }
   ],
   "source": [
    "y_pred = hc.fit_predict(X_test)\n",
    "cm = confusion_matrix(y_test, y_pred)\n",
    "print(cm)\n",
    "print(accuracy_score(y_test, y_pred))"
   ]
  },
  {
   "cell_type": "code",
   "execution_count": 29,
   "metadata": {},
   "outputs": [
    {
     "name": "stdout",
     "output_type": "stream",
     "text": [
      "f1= 0.0017841213202497768\n"
     ]
    }
   ],
   "source": [
    "print('f1=',f1_score(y_test, y_pred))"
   ]
  },
  {
   "cell_type": "markdown",
   "metadata": {},
   "source": [
    "## Artificial Neural Network"
   ]
  },
  {
   "cell_type": "code",
   "execution_count": 8,
   "metadata": {},
   "outputs": [],
   "source": [
    "import tensorflow as tf\n",
    "tf.random.set_seed(0)"
   ]
  },
  {
   "cell_type": "markdown",
   "metadata": {},
   "source": [
    "### Initialize ANN"
   ]
  },
  {
   "cell_type": "code",
   "execution_count": 121,
   "metadata": {},
   "outputs": [],
   "source": [
    "ann = tf.keras.models.Sequential()"
   ]
  },
  {
   "cell_type": "markdown",
   "metadata": {},
   "source": [
    "### Add Input Layer & First Hidden Layers"
   ]
  },
  {
   "cell_type": "code",
   "execution_count": 122,
   "metadata": {},
   "outputs": [],
   "source": [
    "ann.add(tf.keras.layers.Dense(units=50, activation='relu'))"
   ]
  },
  {
   "cell_type": "markdown",
   "metadata": {},
   "source": [
    "### Add Second Hidden Layer"
   ]
  },
  {
   "cell_type": "code",
   "execution_count": 123,
   "metadata": {},
   "outputs": [],
   "source": [
    "ann.add(tf.keras.layers.Dense(units=50, activation='relu'))"
   ]
  },
  {
   "cell_type": "markdown",
   "metadata": {},
   "source": [
    "### Add Output Layer"
   ]
  },
  {
   "cell_type": "code",
   "execution_count": 124,
   "metadata": {},
   "outputs": [],
   "source": [
    "ann.add(tf.keras.layers.Dense(units=1))"
   ]
  },
  {
   "cell_type": "markdown",
   "metadata": {},
   "source": [
    "### Compile ANN "
   ]
  },
  {
   "cell_type": "code",
   "execution_count": 125,
   "metadata": {},
   "outputs": [],
   "source": [
    "ann.compile(optimizer = 'adam', loss = 'mean_squared_error')"
   ]
  },
  {
   "cell_type": "markdown",
   "metadata": {},
   "source": [
    "### Train ANN"
   ]
  },
  {
   "cell_type": "code",
   "execution_count": 126,
   "metadata": {},
   "outputs": [
    {
     "name": "stdout",
     "output_type": "stream",
     "text": [
      "Epoch 1/100\n",
      "214/214 [==============================] - 1s 3ms/step - loss: 0.1012\n",
      "Epoch 2/100\n",
      "214/214 [==============================] - 1s 3ms/step - loss: 0.0329\n",
      "Epoch 3/100\n",
      "214/214 [==============================] - 1s 3ms/step - loss: 0.0130\n",
      "Epoch 4/100\n",
      "214/214 [==============================] - 1s 3ms/step - loss: 0.0053\n",
      "Epoch 5/100\n",
      "214/214 [==============================] - 1s 3ms/step - loss: 0.0028\n",
      "Epoch 6/100\n",
      "214/214 [==============================] - 1s 3ms/step - loss: 0.0017\n",
      "Epoch 7/100\n",
      "214/214 [==============================] - 1s 3ms/step - loss: 8.9895e-04\n",
      "Epoch 8/100\n",
      "214/214 [==============================] - 1s 3ms/step - loss: 5.4289e-04\n",
      "Epoch 9/100\n",
      "214/214 [==============================] - 1s 3ms/step - loss: 3.6792e-04\n",
      "Epoch 10/100\n",
      "214/214 [==============================] - 1s 3ms/step - loss: 2.5496e-04\n",
      "Epoch 11/100\n",
      "214/214 [==============================] - 1s 3ms/step - loss: 2.0709e-04\n",
      "Epoch 12/100\n",
      "214/214 [==============================] - 1s 3ms/step - loss: 1.8932e-04\n",
      "Epoch 13/100\n",
      "214/214 [==============================] - 1s 3ms/step - loss: 1.7630e-04\n",
      "Epoch 14/100\n",
      "214/214 [==============================] - 1s 3ms/step - loss: 1.6730e-04\n",
      "Epoch 15/100\n",
      "214/214 [==============================] - 1s 3ms/step - loss: 1.4090e-04\n",
      "Epoch 16/100\n",
      "214/214 [==============================] - 1s 3ms/step - loss: 1.3724e-04\n",
      "Epoch 17/100\n",
      "214/214 [==============================] - 1s 3ms/step - loss: 1.5002e-04\n",
      "Epoch 18/100\n",
      "214/214 [==============================] - 1s 3ms/step - loss: 1.4525e-04\n",
      "Epoch 19/100\n",
      "214/214 [==============================] - 1s 3ms/step - loss: 1.4000e-04\n",
      "Epoch 20/100\n",
      "214/214 [==============================] - 1s 3ms/step - loss: 1.4704e-04\n",
      "Epoch 21/100\n",
      "214/214 [==============================] - 1s 3ms/step - loss: 1.2036e-04\n",
      "Epoch 22/100\n",
      "214/214 [==============================] - 1s 3ms/step - loss: 1.8995e-04\n",
      "Epoch 23/100\n",
      "214/214 [==============================] - 1s 3ms/step - loss: 1.5594e-04\n",
      "Epoch 24/100\n",
      "214/214 [==============================] - 1s 3ms/step - loss: 3.4970e-04\n",
      "Epoch 25/100\n",
      "214/214 [==============================] - 1s 3ms/step - loss: 8.7054e-04\n",
      "Epoch 26/100\n",
      "214/214 [==============================] - 1s 3ms/step - loss: 0.0018\n",
      "Epoch 27/100\n",
      "214/214 [==============================] - 1s 3ms/step - loss: 9.0513e-04A: 0s - loss:\n",
      "Epoch 28/100\n",
      "214/214 [==============================] - 1s 3ms/step - loss: 7.2707e-04\n",
      "Epoch 29/100\n",
      "214/214 [==============================] - 1s 3ms/step - loss: 1.2661e-04\n",
      "Epoch 30/100\n",
      "214/214 [==============================] - ETA: 0s - loss: 3.3991e-0 - 1s 3ms/step - loss: 3.3138e-05\n",
      "Epoch 31/100\n",
      "214/214 [==============================] - 1s 3ms/step - loss: 1.9239e-05\n",
      "Epoch 32/100\n",
      "214/214 [==============================] - 1s 3ms/step - loss: 1.3588e-05\n",
      "Epoch 33/100\n",
      "214/214 [==============================] - 1s 3ms/step - loss: 8.9431e-06\n",
      "Epoch 34/100\n",
      "214/214 [==============================] - 1s 3ms/step - loss: 2.0621e-05\n",
      "Epoch 35/100\n",
      "214/214 [==============================] - 1s 3ms/step - loss: 2.0037e-05\n",
      "Epoch 36/100\n",
      "214/214 [==============================] - 1s 3ms/step - loss: 5.1780e-06\n",
      "Epoch 37/100\n",
      "214/214 [==============================] - 1s 3ms/step - loss: 4.5366e-06\n",
      "Epoch 38/100\n",
      "214/214 [==============================] - 1s 3ms/step - loss: 8.5186e-06\n",
      "Epoch 39/100\n",
      "214/214 [==============================] - 1s 3ms/step - loss: 5.2575e-06\n",
      "Epoch 40/100\n",
      "214/214 [==============================] - 1s 3ms/step - loss: 4.0965e-06\n",
      "Epoch 41/100\n",
      "214/214 [==============================] - 1s 3ms/step - loss: 8.6271e-06\n",
      "Epoch 42/100\n",
      "214/214 [==============================] - 1s 3ms/step - loss: 1.6509e-05\n",
      "Epoch 43/100\n",
      "214/214 [==============================] - 1s 3ms/step - loss: 1.2068e-05\n",
      "Epoch 44/100\n",
      "214/214 [==============================] - 1s 3ms/step - loss: 1.8781e-05\n",
      "Epoch 45/100\n",
      "214/214 [==============================] - 1s 3ms/step - loss: 2.8886e-05\n",
      "Epoch 46/100\n",
      "214/214 [==============================] - 1s 3ms/step - loss: 4.4782e-05\n",
      "Epoch 47/100\n",
      "214/214 [==============================] - 1s 3ms/step - loss: 3.2195e-04\n",
      "Epoch 48/100\n",
      "214/214 [==============================] - 1s 3ms/step - loss: 3.9166e-04\n",
      "Epoch 49/100\n",
      "214/214 [==============================] - 1s 3ms/step - loss: 2.5747e-04\n",
      "Epoch 50/100\n",
      "214/214 [==============================] - 1s 3ms/step - loss: 1.4998e-04\n",
      "Epoch 51/100\n",
      "214/214 [==============================] - 1s 3ms/step - loss: 1.7430e-04\n",
      "Epoch 52/100\n",
      "214/214 [==============================] - 1s 3ms/step - loss: 1.0060e-04\n",
      "Epoch 53/100\n",
      "214/214 [==============================] - 1s 3ms/step - loss: 1.5345e-04\n",
      "Epoch 54/100\n",
      "214/214 [==============================] - 1s 3ms/step - loss: 5.8619e-05\n",
      "Epoch 55/100\n",
      "214/214 [==============================] - 1s 3ms/step - loss: 5.3622e-05\n",
      "Epoch 56/100\n",
      "214/214 [==============================] - 1s 3ms/step - loss: 3.2265e-05\n",
      "Epoch 57/100\n",
      "214/214 [==============================] - 1s 3ms/step - loss: 3.9936e-05\n",
      "Epoch 58/100\n",
      "214/214 [==============================] - 1s 3ms/step - loss: 4.2941e-05\n",
      "Epoch 59/100\n",
      "214/214 [==============================] - 1s 3ms/step - loss: 2.5131e-05\n",
      "Epoch 60/100\n",
      "214/214 [==============================] - 1s 3ms/step - loss: 9.2740e-06\n",
      "Epoch 61/100\n",
      "214/214 [==============================] - 1s 3ms/step - loss: 4.5649e-06\n",
      "Epoch 62/100\n",
      "214/214 [==============================] - 1s 3ms/step - loss: 3.2577e-06\n",
      "Epoch 63/100\n",
      "214/214 [==============================] - 1s 3ms/step - loss: 2.5096e-06\n",
      "Epoch 64/100\n",
      "214/214 [==============================] - 1s 3ms/step - loss: 9.6236e-06\n",
      "Epoch 65/100\n",
      "214/214 [==============================] - 1s 3ms/step - loss: 9.7046e-05\n",
      "Epoch 66/100\n",
      "214/214 [==============================] - 1s 3ms/step - loss: 1.1888e-04\n",
      "Epoch 67/100\n",
      "214/214 [==============================] - 1s 3ms/step - loss: 1.4454e-04\n",
      "Epoch 68/100\n",
      "214/214 [==============================] - 1s 3ms/step - loss: 5.4025e-04\n",
      "Epoch 69/100\n",
      "214/214 [==============================] - 1s 3ms/step - loss: 3.6051e-04\n",
      "Epoch 70/100\n",
      "214/214 [==============================] - 1s 3ms/step - loss: 1.0679e-04\n",
      "Epoch 71/100\n",
      "214/214 [==============================] - 1s 3ms/step - loss: 3.5728e-05\n",
      "Epoch 72/100\n",
      "214/214 [==============================] - 1s 3ms/step - loss: 9.4311e-05\n",
      "Epoch 73/100\n",
      "214/214 [==============================] - 1s 3ms/step - loss: 1.1285e-05\n",
      "Epoch 74/100\n",
      "214/214 [==============================] - 1s 3ms/step - loss: 7.7802e-06\n",
      "Epoch 75/100\n",
      "214/214 [==============================] - 1s 3ms/step - loss: 4.2517e-06\n",
      "Epoch 76/100\n",
      "214/214 [==============================] - 1s 3ms/step - loss: 5.5829e-06\n",
      "Epoch 77/100\n",
      "214/214 [==============================] - 1s 3ms/step - loss: 3.5445e-05\n",
      "Epoch 78/100\n",
      "214/214 [==============================] - 1s 3ms/step - loss: 2.7491e-05\n",
      "Epoch 79/100\n",
      "214/214 [==============================] - 1s 3ms/step - loss: 8.3751e-04\n",
      "Epoch 80/100\n",
      "214/214 [==============================] - 1s 3ms/step - loss: 1.7020e-04\n",
      "Epoch 81/100\n",
      "214/214 [==============================] - 1s 3ms/step - loss: 1.1771e-04\n",
      "Epoch 82/100\n",
      "214/214 [==============================] - 1s 3ms/step - loss: 1.1179e-04\n",
      "Epoch 83/100\n",
      "214/214 [==============================] - 1s 3ms/step - loss: 3.0454e-05\n",
      "Epoch 84/100\n",
      "214/214 [==============================] - 1s 3ms/step - loss: 1.1814e-05\n",
      "Epoch 85/100\n",
      "214/214 [==============================] - 1s 3ms/step - loss: 7.6380e-06\n",
      "Epoch 86/100\n",
      "214/214 [==============================] - 1s 3ms/step - loss: 8.2287e-06\n",
      "Epoch 87/100\n",
      "214/214 [==============================] - 1s 3ms/step - loss: 7.9766e-06\n",
      "Epoch 88/100\n",
      "214/214 [==============================] - 1s 3ms/step - loss: 1.4332e-05\n",
      "Epoch 89/100\n",
      "214/214 [==============================] - 1s 3ms/step - loss: 5.1966e-05\n",
      "Epoch 90/100\n",
      "214/214 [==============================] - 1s 3ms/step - loss: 2.1510e-05\n",
      "Epoch 91/100\n",
      "214/214 [==============================] - 1s 3ms/step - loss: 1.6614e-05\n",
      "Epoch 92/100\n",
      "214/214 [==============================] - 1s 3ms/step - loss: 3.5231e-05\n",
      "Epoch 93/100\n",
      "214/214 [==============================] - 1s 3ms/step - loss: 1.1425e-05\n",
      "Epoch 94/100\n",
      "214/214 [==============================] - 1s 3ms/step - loss: 5.9707e-06\n",
      "Epoch 95/100\n",
      "214/214 [==============================] - 1s 3ms/step - loss: 3.9920e-06\n",
      "Epoch 96/100\n",
      "214/214 [==============================] - 1s 3ms/step - loss: 4.2902e-06\n",
      "Epoch 97/100\n",
      "214/214 [==============================] - 1s 3ms/step - loss: 7.3538e-06\n",
      "Epoch 98/100\n",
      "214/214 [==============================] - 1s 3ms/step - loss: 1.1496e-05\n",
      "Epoch 99/100\n",
      "214/214 [==============================] - 1s 3ms/step - loss: 9.2607e-06\n",
      "Epoch 100/100\n",
      "214/214 [==============================] - 1s 3ms/step - loss: 1.5105e-05\n"
     ]
    },
    {
     "data": {
      "text/plain": [
       "<tensorflow.python.keras.callbacks.History at 0x21386fb4a00>"
      ]
     },
     "execution_count": 126,
     "metadata": {},
     "output_type": "execute_result"
    }
   ],
   "source": [
    "ann.fit(X_train, y_train, batch_size = 30, epochs = 100)"
   ]
  },
  {
   "cell_type": "markdown",
   "metadata": {},
   "source": [
    "### Predict ANN"
   ]
  },
  {
   "cell_type": "code",
   "execution_count": 127,
   "metadata": {},
   "outputs": [
    {
     "name": "stdout",
     "output_type": "stream",
     "text": [
      "[[915 105]\n",
      " [901 219]]\n",
      "0.5299065420560748\n"
     ]
    }
   ],
   "source": [
    "from sklearn.metrics import confusion_matrix, accuracy_score, f1_score\n",
    "y_pred = ann.predict(X_test)\n",
    "for i in range(0, len(y_pred)):\n",
    "    if y_pred[i] > 0.5:\n",
    "        y_pred[i] = 1\n",
    "    else:\n",
    "        y_pred[i] = 0\n",
    "cm = confusion_matrix(y_test, y_pred)\n",
    "print(cm)\n",
    "print(accuracy_score(y_test, y_pred))"
   ]
  },
  {
   "cell_type": "code",
   "execution_count": null,
   "metadata": {},
   "outputs": [],
   "source": []
  },
  {
   "cell_type": "code",
   "execution_count": null,
   "metadata": {},
   "outputs": [],
   "source": []
  },
  {
   "cell_type": "code",
   "execution_count": null,
   "metadata": {},
   "outputs": [],
   "source": []
  },
  {
   "cell_type": "code",
   "execution_count": null,
   "metadata": {},
   "outputs": [],
   "source": []
  },
  {
   "cell_type": "code",
   "execution_count": 165,
   "metadata": {},
   "outputs": [],
   "source": [
    "ann = tf.keras.models.Sequential()"
   ]
  },
  {
   "cell_type": "code",
   "execution_count": 166,
   "metadata": {},
   "outputs": [],
   "source": [
    "ann.add(tf.keras.layers.Dense(units=50, activation='softmax'))"
   ]
  },
  {
   "cell_type": "code",
   "execution_count": 167,
   "metadata": {},
   "outputs": [],
   "source": [
    "ann.add(tf.keras.layers.Dense(units=50, activation='softmax'))"
   ]
  },
  {
   "cell_type": "code",
   "execution_count": 168,
   "metadata": {},
   "outputs": [],
   "source": [
    "ann.add(tf.keras.layers.Dense(units=1))"
   ]
  },
  {
   "cell_type": "code",
   "execution_count": 169,
   "metadata": {},
   "outputs": [],
   "source": [
    "ann.compile(optimizer = 'adam', loss = 'mean_squared_error')"
   ]
  },
  {
   "cell_type": "code",
   "execution_count": 170,
   "metadata": {},
   "outputs": [
    {
     "name": "stdout",
     "output_type": "stream",
     "text": [
      "Epoch 1/100\n",
      "214/214 [==============================] - 1s 3ms/step - loss: 0.3616\n",
      "Epoch 2/100\n",
      "214/214 [==============================] - 1s 3ms/step - loss: 0.2281\n",
      "Epoch 3/100\n",
      "214/214 [==============================] - 1s 3ms/step - loss: 0.1543\n",
      "Epoch 4/100\n",
      "214/214 [==============================] - 1s 3ms/step - loss: 0.0755\n",
      "Epoch 5/100\n",
      "214/214 [==============================] - 1s 3ms/step - loss: 0.0356\n",
      "Epoch 6/100\n",
      "214/214 [==============================] - 1s 3ms/step - loss: 0.0235\n",
      "Epoch 7/100\n",
      "214/214 [==============================] - 1s 3ms/step - loss: 0.0187\n",
      "Epoch 8/100\n",
      "214/214 [==============================] - 1s 3ms/step - loss: 0.0156\n",
      "Epoch 9/100\n",
      "214/214 [==============================] - 1s 3ms/step - loss: 0.0133\n",
      "Epoch 10/100\n",
      "214/214 [==============================] - 1s 3ms/step - loss: 0.0116\n",
      "Epoch 11/100\n",
      "214/214 [==============================] - 1s 3ms/step - loss: 0.0102\n",
      "Epoch 12/100\n",
      "214/214 [==============================] - 1s 3ms/step - loss: 0.0090\n",
      "Epoch 13/100\n",
      "214/214 [==============================] - 1s 3ms/step - loss: 0.0079\n",
      "Epoch 14/100\n",
      "214/214 [==============================] - 1s 3ms/step - loss: 0.0070\n",
      "Epoch 15/100\n",
      "214/214 [==============================] - 1s 3ms/step - loss: 0.0062\n",
      "Epoch 16/100\n",
      "214/214 [==============================] - 1s 3ms/step - loss: 0.0055\n",
      "Epoch 17/100\n",
      "214/214 [==============================] - 1s 2ms/step - loss: 0.0048\n",
      "Epoch 18/100\n",
      "214/214 [==============================] - 1s 2ms/step - loss: 0.0043\n",
      "Epoch 19/100\n",
      "214/214 [==============================] - 1s 3ms/step - loss: 0.0038\n",
      "Epoch 20/100\n",
      "214/214 [==============================] - 1s 3ms/step - loss: 0.0033\n",
      "Epoch 21/100\n",
      "214/214 [==============================] - 1s 3ms/step - loss: 0.0029\n",
      "Epoch 22/100\n",
      "214/214 [==============================] - 1s 3ms/step - loss: 0.0025\n",
      "Epoch 23/100\n",
      "214/214 [==============================] - 1s 3ms/step - loss: 0.0022\n",
      "Epoch 24/100\n",
      "214/214 [==============================] - 1s 3ms/step - loss: 0.0019\n",
      "Epoch 25/100\n",
      "214/214 [==============================] - 1s 3ms/step - loss: 0.0016\n",
      "Epoch 26/100\n",
      "214/214 [==============================] - 1s 3ms/step - loss: 0.0014\n",
      "Epoch 27/100\n",
      "214/214 [==============================] - 1s 3ms/step - loss: 0.0012\n",
      "Epoch 28/100\n",
      "214/214 [==============================] - 1s 3ms/step - loss: 8.8717e-04\n",
      "Epoch 29/100\n",
      "214/214 [==============================] - 1s 3ms/step - loss: 6.6874e-04\n",
      "Epoch 30/100\n",
      "214/214 [==============================] - 1s 3ms/step - loss: 5.6717e-04\n",
      "Epoch 31/100\n",
      "214/214 [==============================] - 1s 3ms/step - loss: 4.8839e-04\n",
      "Epoch 32/100\n",
      "214/214 [==============================] - 1s 3ms/step - loss: 4.2975e-04\n",
      "Epoch 33/100\n",
      "214/214 [==============================] - 1s 3ms/step - loss: 3.8952e-04\n",
      "Epoch 34/100\n",
      "214/214 [==============================] - 1s 3ms/step - loss: 3.5573e-04\n",
      "Epoch 35/100\n",
      "214/214 [==============================] - 1s 3ms/step - loss: 3.2874e-04\n",
      "Epoch 36/100\n",
      "214/214 [==============================] - 1s 3ms/step - loss: 3.0609e-04\n",
      "Epoch 37/100\n",
      "214/214 [==============================] - 1s 3ms/step - loss: 2.8877e-04\n",
      "Epoch 38/100\n",
      "214/214 [==============================] - 1s 3ms/step - loss: 2.7323e-04\n",
      "Epoch 39/100\n",
      "214/214 [==============================] - 1s 3ms/step - loss: 2.5796e-04\n",
      "Epoch 40/100\n",
      "214/214 [==============================] - 1s 3ms/step - loss: 2.4446e-04\n",
      "Epoch 41/100\n",
      "214/214 [==============================] - 1s 3ms/step - loss: 2.2345e-04\n",
      "Epoch 42/100\n",
      "214/214 [==============================] - 1s 3ms/step - loss: 2.1135e-04\n",
      "Epoch 43/100\n",
      "214/214 [==============================] - 1s 3ms/step - loss: 1.8246e-04\n",
      "Epoch 44/100\n",
      "214/214 [==============================] - 1s 3ms/step - loss: 1.5415e-04\n",
      "Epoch 45/100\n",
      "214/214 [==============================] - 1s 3ms/step - loss: 1.2557e-04\n",
      "Epoch 46/100\n",
      "214/214 [==============================] - 1s 3ms/step - loss: 1.0195e-04\n",
      "Epoch 47/100\n",
      "214/214 [==============================] - 1s 3ms/step - loss: 8.7621e-05\n",
      "Epoch 48/100\n",
      "214/214 [==============================] - 1s 3ms/step - loss: 7.6660e-05A: 0s - loss: \n",
      "Epoch 49/100\n",
      "214/214 [==============================] - 1s 3ms/step - loss: 6.7898e-05\n",
      "Epoch 50/100\n",
      "214/214 [==============================] - 1s 3ms/step - loss: 6.1672e-05\n",
      "Epoch 51/100\n",
      "214/214 [==============================] - 1s 3ms/step - loss: 5.4636e-05\n",
      "Epoch 52/100\n",
      "214/214 [==============================] - 1s 3ms/step - loss: 4.9886e-05\n",
      "Epoch 53/100\n",
      "214/214 [==============================] - 1s 3ms/step - loss: 4.5027e-05\n",
      "Epoch 54/100\n",
      "214/214 [==============================] - 1s 3ms/step - loss: 4.1921e-05\n",
      "Epoch 55/100\n",
      "214/214 [==============================] - 1s 3ms/step - loss: 3.8187e-05\n",
      "Epoch 56/100\n",
      "214/214 [==============================] - 1s 3ms/step - loss: 3.6478e-05\n",
      "Epoch 57/100\n",
      "214/214 [==============================] - 1s 3ms/step - loss: 3.2550e-05\n",
      "Epoch 58/100\n",
      "214/214 [==============================] - 1s 3ms/step - loss: 3.0450e-05\n",
      "Epoch 59/100\n",
      "214/214 [==============================] - 1s 3ms/step - loss: 2.7320e-05\n",
      "Epoch 60/100\n",
      "214/214 [==============================] - 1s 3ms/step - loss: 2.5468e-05\n",
      "Epoch 61/100\n",
      "214/214 [==============================] - 1s 3ms/step - loss: 2.2464e-05\n",
      "Epoch 62/100\n",
      "214/214 [==============================] - 1s 3ms/step - loss: 2.1312e-05\n",
      "Epoch 63/100\n",
      "214/214 [==============================] - 1s 3ms/step - loss: 1.9599e-05\n",
      "Epoch 64/100\n",
      "214/214 [==============================] - ETA: 0s - loss: 1.8496e-0 - 1s 3ms/step - loss: 1.8036e-05\n",
      "Epoch 65/100\n",
      "214/214 [==============================] - 1s 3ms/step - loss: 1.6776e-05\n",
      "Epoch 66/100\n",
      "214/214 [==============================] - 1s 3ms/step - loss: 1.5480e-05\n",
      "Epoch 67/100\n",
      "214/214 [==============================] - 1s 3ms/step - loss: 1.3934e-05\n",
      "Epoch 68/100\n",
      "214/214 [==============================] - 1s 3ms/step - loss: 1.2768e-05\n",
      "Epoch 69/100\n",
      "214/214 [==============================] - 1s 3ms/step - loss: 1.2061e-05\n",
      "Epoch 70/100\n",
      "214/214 [==============================] - 1s 3ms/step - loss: 1.1797e-05\n",
      "Epoch 71/100\n",
      "214/214 [==============================] - 1s 3ms/step - loss: 1.0644e-05\n",
      "Epoch 72/100\n",
      "214/214 [==============================] - 1s 3ms/step - loss: 1.0264e-05\n",
      "Epoch 73/100\n",
      "214/214 [==============================] - 1s 3ms/step - loss: 9.0414e-06\n",
      "Epoch 74/100\n",
      "214/214 [==============================] - 1s 3ms/step - loss: 8.4931e-06\n",
      "Epoch 75/100\n",
      "214/214 [==============================] - 1s 3ms/step - loss: 7.7300e-06\n",
      "Epoch 76/100\n",
      "214/214 [==============================] - 1s 3ms/step - loss: 7.1413e-06\n",
      "Epoch 77/100\n",
      "214/214 [==============================] - 1s 3ms/step - loss: 6.8193e-06\n",
      "Epoch 78/100\n",
      "214/214 [==============================] - 1s 3ms/step - loss: 6.2720e-06\n",
      "Epoch 79/100\n",
      "214/214 [==============================] - 1s 3ms/step - loss: 5.7932e-06\n",
      "Epoch 80/100\n",
      "214/214 [==============================] - 1s 3ms/step - loss: 5.7446e-06\n",
      "Epoch 81/100\n",
      "214/214 [==============================] - 1s 3ms/step - loss: 5.2888e-06\n",
      "Epoch 82/100\n",
      "214/214 [==============================] - 1s 3ms/step - loss: 4.8563e-06\n",
      "Epoch 83/100\n",
      "214/214 [==============================] - 1s 3ms/step - loss: 4.3192e-06\n",
      "Epoch 84/100\n",
      "214/214 [==============================] - 1s 3ms/step - loss: 4.2194e-06\n",
      "Epoch 85/100\n",
      "214/214 [==============================] - 1s 3ms/step - loss: 3.9181e-06\n",
      "Epoch 86/100\n",
      "214/214 [==============================] - 1s 3ms/step - loss: 3.8101e-06\n",
      "Epoch 87/100\n",
      "214/214 [==============================] - 1s 3ms/step - loss: 3.3945e-06\n",
      "Epoch 88/100\n",
      "214/214 [==============================] - 1s 3ms/step - loss: 3.1588e-06\n",
      "Epoch 89/100\n",
      "214/214 [==============================] - 1s 3ms/step - loss: 2.8762e-06\n",
      "Epoch 90/100\n",
      "214/214 [==============================] - 1s 3ms/step - loss: 2.7866e-06\n",
      "Epoch 91/100\n",
      "214/214 [==============================] - 1s 3ms/step - loss: 2.4711e-06A: 0s - loss:\n",
      "Epoch 92/100\n",
      "214/214 [==============================] - 1s 3ms/step - loss: 2.4431e-06\n",
      "Epoch 93/100\n",
      "214/214 [==============================] - 1s 3ms/step - loss: 2.2300e-06\n",
      "Epoch 94/100\n",
      "214/214 [==============================] - 1s 3ms/step - loss: 2.1220e-06\n",
      "Epoch 95/100\n",
      "214/214 [==============================] - 1s 3ms/step - loss: 2.0352e-06A: 0s - loss: 1\n",
      "Epoch 96/100\n",
      "214/214 [==============================] - 1s 3ms/step - loss: 1.9358e-06\n",
      "Epoch 97/100\n",
      "214/214 [==============================] - 1s 3ms/step - loss: 1.7806e-06\n",
      "Epoch 98/100\n",
      "214/214 [==============================] - 1s 3ms/step - loss: 1.7546e-06\n",
      "Epoch 99/100\n",
      "214/214 [==============================] - 1s 3ms/step - loss: 1.6217e-06\n",
      "Epoch 100/100\n",
      "214/214 [==============================] - 1s 3ms/step - loss: 1.5580e-06\n"
     ]
    },
    {
     "data": {
      "text/plain": [
       "<tensorflow.python.keras.callbacks.History at 0x214004a8d90>"
      ]
     },
     "execution_count": 170,
     "metadata": {},
     "output_type": "execute_result"
    }
   ],
   "source": [
    "ann.fit(X_train, y_train, batch_size = 30, epochs = 100)"
   ]
  },
  {
   "cell_type": "code",
   "execution_count": 171,
   "metadata": {},
   "outputs": [
    {
     "name": "stdout",
     "output_type": "stream",
     "text": [
      "[[830 190]\n",
      " [751 369]]\n",
      "0.5602803738317756\n"
     ]
    }
   ],
   "source": [
    "from sklearn.metrics import confusion_matrix, accuracy_score, f1_score\n",
    "y_pred = ann.predict(X_test)\n",
    "for i in range(0, len(y_pred)):\n",
    "    if y_pred[i] > 0.5:\n",
    "        y_pred[i] = 1\n",
    "    else:\n",
    "        y_pred[i] = 0\n",
    "cm = confusion_matrix(y_test, y_pred)\n",
    "print(cm)\n",
    "print(accuracy_score(y_test, y_pred))"
   ]
  },
  {
   "cell_type": "code",
   "execution_count": null,
   "metadata": {},
   "outputs": [],
   "source": []
  },
  {
   "cell_type": "code",
   "execution_count": null,
   "metadata": {},
   "outputs": [],
   "source": []
  },
  {
   "cell_type": "code",
   "execution_count": null,
   "metadata": {},
   "outputs": [],
   "source": []
  },
  {
   "cell_type": "code",
   "execution_count": null,
   "metadata": {},
   "outputs": [],
   "source": []
  },
  {
   "cell_type": "code",
   "execution_count": null,
   "metadata": {},
   "outputs": [],
   "source": []
  },
  {
   "cell_type": "code",
   "execution_count": null,
   "metadata": {},
   "outputs": [],
   "source": []
  },
  {
   "cell_type": "code",
   "execution_count": null,
   "metadata": {},
   "outputs": [],
   "source": []
  },
  {
   "cell_type": "code",
   "execution_count": null,
   "metadata": {},
   "outputs": [],
   "source": []
  }
 ],
 "metadata": {
  "kernelspec": {
   "display_name": "Python 3",
   "language": "python",
   "name": "python3"
  },
  "language_info": {
   "codemirror_mode": {
    "name": "ipython",
    "version": 3
   },
   "file_extension": ".py",
   "mimetype": "text/x-python",
   "name": "python",
   "nbconvert_exporter": "python",
   "pygments_lexer": "ipython3",
   "version": "3.8.3"
  }
 },
 "nbformat": 4,
 "nbformat_minor": 4
}
